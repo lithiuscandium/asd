{
 "cells": [
  {
   "cell_type": "markdown",
   "metadata": {},
   "source": [
    "## 一、关于\n",
    "- 同学情况调查"
   ]
  },
  {
   "cell_type": "markdown",
   "metadata": {},
   "source": [
    "## 二、关于python课程"
   ]
  },
  {
   "cell_type": "markdown",
   "metadata": {},
   "source": [
    "### 1. 课程大纲\n",
    "\n",
    "1. python课程和python语言：课程大纲和要求，简介python语言和开发工具等\n",
    "2. python开发环境和jupyter notebook：搭建python开发环境，使用在线开发工具jupyter notebook\n",
    "3. python编程基础：python数据结构和标准库\n",
    "4. python数据获取：获取来自文件、网络和数据库的数据\n",
    "5. python数据处理：利用python标准库，numpy、scipy、pandas包进行数据处理\n",
    "6. python数据可视化：利用matplotlib和seaborn进行数据可视化\n",
    "7. python编程进阶：关于迭代器、生成器和装饰器，关于面向对象编程\n",
    "8. python数据挖掘基础"
   ]
  },
  {
   "cell_type": "markdown",
   "metadata": {},
   "source": [
    "### 2. 课程目标\n",
    "具备利用python进行数据处理的能力，由易到难达到如下四个层次：\n",
    "- 工具：掌握python基础编程\n",
    "- 应用：利用python标准库和包进行数据分析练习\n",
    "- 理论：理解关键算法的基本原理\n",
    "- 项目：独立或团队完成数据分析项目\n",
    "\n",
    "对于后面的两个层次需要一个长期积累的过程，我们以达到前两个层次为目的，达到后两个层次为期望\n"
   ]
  },
  {
   "cell_type": "markdown",
   "metadata": {},
   "source": [
    "### 3. 基本要求\n",
    "- 投入兴趣，投入时间\n",
    "- 不怕代码，不怕公式\n",
    "- 补充阅读，不断练习"
   ]
  },
  {
   "cell_type": "markdown",
   "metadata": {},
   "source": [
    "### 4. 课件"
   ]
  },
  {
   "cell_type": "markdown",
   "metadata": {},
   "source": [
    "- https://github.com/qingspace/course-begining-python\n",
    "- http://nbviewer.jupyter.org"
   ]
  },
  {
   "cell_type": "markdown",
   "metadata": {},
   "source": [
    "### 5. 成绩"
   ]
  },
  {
   "cell_type": "markdown",
   "metadata": {},
   "source": [
    "- 平时成绩20分：平时课堂表现和课后作业情况（格式整洁，结构完整，题量充分）\n",
    "- 期末成绩80分，即project的成绩，包括两个部分各占50%\n",
    "    - 基础分（格式整洁，结构完整，可以执行）\n",
    "    - 提高分（逻辑清晰，结果完整，使用超过课程讲解的库或特性，完成超过要求的额外代码）"
   ]
  },
  {
   "cell_type": "markdown",
   "metadata": {},
   "source": [
    "## 三、python语言"
   ]
  },
  {
   "cell_type": "markdown",
   "metadata": {},
   "source": [
    "### 1. TIOBE编程语言排名\n",
    "<http://www.tiobe.com/tiobe-index/>\n",
    "\n",
    "Python和其他许多语言都是很老的语言，上个世纪90年代是语言的爆发期，Java、Python、PHP、Ruby都是那个时代的产物。\n",
    "Python并不是近年才火，只是在数据时代，大家又发现了Python新的价值。\n",
    "\n",
    "![rank](images/rank.jpg)\n",
    "![trend](images/trend.jpg)"
   ]
  },
  {
   "cell_type": "markdown",
   "metadata": {},
   "source": [
    "### 2. 为什么选择python?\n",
    "- 排名前10中最容易入门的语言\n",
    "- Python涉及领域多：Web应用开发，桌面应用开发，嵌入式开发，数据科学\n",
    "- Python是胶水语言：直接调用C、Java和C#库（CPython，Jython，IronPython）\n",
    "- Python库多：Python某个功能的库可能比Python语言的关键字还多\n",
    "- Python开源\n",
    "- Python有做数据科学的潜质，与R并驾齐驱"
   ]
  },
  {
   "cell_type": "markdown",
   "metadata": {},
   "source": [
    "Life is short , You need Python\n",
    "![Guido van Rossum](images/Guido_van_Rossum.jpg)\n"
   ]
  },
  {
   "cell_type": "markdown",
   "metadata": {
    "collapsed": true
   },
   "source": [
    "### 3. python家族\n",
    "- CPython：用C编写的Python解释器，是Python的参考实现。CPython为Python包和C扩展模块提供了最大限度的兼容\n",
    "- Jython：Java平台上实现的Python解释器，Python代码运行在JVM上，可以像是用Python模块一样，导入 并使用任何Java类\n",
    "- IronPyton：.Net平台上实现的Python解释器\n",
    "- MicroPython：支持嵌入式系统\n",
    "- PyPy(JIT)：用RPython实现的解释器，RPython是Python的子集"
   ]
  },
  {
   "cell_type": "markdown",
   "metadata": {},
   "source": [
    "### 4. 解释型还是编译型?\n",
    "针对CPython而言\n",
    "- 源代码（.py）\n",
    "- 字节码（.pyc）：有写入权限则生成编译后的pyc文件\n",
    "- 机器码（二进制）\n",
    "\n",
    "由于跨平台和效率的需要，Python源代码会自动编译成字节码（Python与Java和C#的字节码类似但不同）。\n",
    "所有语言最终都需要编译成为机器码（机器码不是汇编，C语言编译为汇编而后编译为机器码）。\n",
    "CPU指令集解释机器码。"
   ]
  },
  {
   "cell_type": "markdown",
   "metadata": {},
   "source": [
    "### 5. 第三方包\n",
    "- flask: \n",
    "    - Flask is a microframework for Python. http://flask.pocoo.org\n",
    "- django: \n",
    "    - Django is a high-level Python Web framework that encourages rapid development and clean, pragmatic design. https://www.djangoproject.com\n",
    "\n",
    "- requests: \n",
    "    - Python HTTP Requests for Humans. http://python-requests.org\n",
    "- pyspider: \n",
    "    - A Powerful Spider(Web Crawler) System in Python. http://docs.pyspider.org\n",
    "\n",
    "- numpy: \n",
    "    - NumPy is the fundamental package for scientific computing with Python. http://www.numpy.org\n",
    "- scipy: \n",
    "    - SciPy is open-source software for mathematics, science, and engineering. https://www.scipy.org\n",
    "- pandas: \n",
    "    - pandas is an open source, BSD-licensed library providing high-performance, easy-to-use data structures and data analysis tools for the Python programming language. http://pandas.pydata.org\n",
    "- matplotlib: \n",
    "    - Matplotlib is a Python 2D plotting library. http://matplotlib.org\n",
    "- seaborn: \n",
    "    - Seaborn is a Python visualization library based on matplotlib. It provides a high-level interface for drawing attractive statistical graphics. https://seaborn.pydata.org\n",
    "- statsmodels: \n",
    "    - statsmodels is a Python module that provides classes and functions for the estimation of many different statistical models, as well as for conducting statistical tests, and statistical data exploration. http://www.statsmodels.org\n",
    "- scikit-learn: \n",
    "    - Simple and efficient tools for data mining and data analysis. http://scikit-learn.org\n",
    "- theano: \n",
    "    - Theano is a Python library that allows you to define, optimize, and evaluate mathematical expressions involving multi-dimensional arrays efficiently. http://deeplearning.net/software/theano/\n",
    "- tensorflow: \n",
    "    - TensorFlow is an open source software library for numerical computation using data flow graphs. https://www.tensorflow.org/\n",
    "- keras \n",
    "    - Keras is a high-level neural networks API, written in Python and capable of running on top of either TensorFlow or Theano. https://keras.io/  http://keras-cn.readthedocs.io"
   ]
  },
  {
   "cell_type": "code",
   "execution_count": 2,
   "metadata": {},
   "outputs": [
    {
     "data": {
      "text/plain": [
       "'<!DOCTYPE html>\\r\\n<!--STATUS OK--><html> <head><meta http-equiv=content-type content=text/html;charset=utf-8><meta http-equiv=X-UA-Compatible content=IE=Edge><meta content=always name=referrer><link rel=stylesheet type=text/css href=https://ss1.bdstatic.com/5eN1bjq8AAUYm2zgoY3K/r/www/cache/bdorz/baidu.min.css><title>ç\\x99¾åº¦ä¸\\x80ä¸\\x8bï¼\\x8cä½\\xa0å°±ç\\x9f¥é\\x81\\x93</title></head> <body link=#0000cc> <div id=wrapper> <div id=head> <div class=head_wrapper> <div class=s_form> <div class=s_form_wrapper> <div id=lg> <img hidefocus=true src=//www.baidu.com/img/bd_logo1.png width=270 height=129> </div> <form id=form name=f action=//www.baidu.com/s class=fm> <input type=hidden name=bdorz_come value=1> <input type=hidden name=ie value=utf-8> <input type=hidden name=f value=8> <input type=hidden name=rsv_bp value=1> <input type=hidden name=rsv_idx value=1> <input type=hidden name=tn value=baidu><span class=\"bg s_ipt_wr\"><input id=kw name=wd class=s_ipt value maxlength=255 autocomplete=off autofocus=autofocus></span><span class=\"bg s_btn_wr\"><input type=submit id=su value=ç\\x99¾åº¦ä¸\\x80ä¸\\x8b class=\"bg s_btn\" autofocus></span> </form> </div> </div> <div id=u1> <a href=http://news.baidu.com name=tj_trnews class=mnav>æ\\x96°é\\x97»</a> <a href=https://www.hao123.com name=tj_trhao123 class=mnav>hao123</a> <a href=http://map.baidu.com name=tj_trmap class=mnav>å\\x9c°å\\x9b¾</a> <a href=http://v.baidu.com name=tj_trvideo class=mnav>è§\\x86é¢\\x91</a> <a href=http://tieba.baidu.com name=tj_trtieba class=mnav>è´´å\\x90§</a> <noscript> <a href=http://www.baidu.com/bdorz/login.gif?login&amp;tpl=mn&amp;u=http%3A%2F%2Fwww.baidu.com%2f%3fbdorz_come%3d1 name=tj_login class=lb>ç\\x99»å½\\x95</a> </noscript> <script>document.write(\\'<a href=\"http://www.baidu.com/bdorz/login.gif?login&tpl=mn&u=\\'+ encodeURIComponent(window.location.href+ (window.location.search === \"\" ? \"?\" : \"&\")+ \"bdorz_come=1\")+ \\'\" name=\"tj_login\" class=\"lb\">ç\\x99»å½\\x95</a>\\');\\r\\n                </script> <a href=//www.baidu.com/more/ name=tj_briicon class=bri style=\"display: block;\">æ\\x9b´å¤\\x9aäº§å\\x93\\x81</a> </div> </div> </div> <div id=ftCon> <div id=ftConw> <p id=lh> <a href=http://home.baidu.com>å\\x85³äº\\x8eç\\x99¾åº¦</a> <a href=http://ir.baidu.com>About Baidu</a> </p> <p id=cp>&copy;2017&nbsp;Baidu&nbsp;<a href=http://www.baidu.com/duty/>ä½¿ç\\x94¨ç\\x99¾åº¦å\\x89\\x8då¿\\x85è¯»</a>&nbsp; <a href=http://jianyi.baidu.com/ class=cp-feedback>æ\\x84\\x8fè§\\x81å\\x8f\\x8dé¦\\x88</a>&nbsp;äº¬ICPè¯\\x81030173å\\x8f·&nbsp; <img src=//www.baidu.com/img/gs.gif> </p> </div> </div> </div> </body> </html>\\r\\n'"
      ]
     },
     "execution_count": 2,
     "metadata": {},
     "output_type": "execute_result"
    }
   ],
   "source": [
    "import requests\n",
    "r = requests.get(\"https://www.baidu.com\")\n",
    "r.text"
   ]
  },
  {
   "cell_type": "markdown",
   "metadata": {},
   "source": [
    "## 四、关于编程\n",
    "![](images/datapie.png)\n",
    "### 1. 程序员思维\n",
    "- Python语言更偏向程序员思维\n",
    "- 一切都是输入输出的盒子\n",
    "- 创造、改进、使用这个盒子（抽象、重构、调用）\n",
    "- 不重复自己\n",
    "- 多模仿\n",
    "- 多敲代码：培养代码语感，目的除了熟悉api，更重要的是熟悉背后的原理\n",
    "\n",
    "### 2. 学习曲线"
   ]
  },
  {
   "cell_type": "code",
   "execution_count": 2,
   "metadata": {
    "scrolled": false
   },
   "outputs": [
    {
     "data": {
      "image/png": "[encoded data removed]",
      "text/plain": [
       "<matplotlib.figure.Figure at 0x161324bd898>"
      ]
     },
     "metadata": {},
     "output_type": "display_data"
    }
   ],
   "source": [
    "import numpy as np\n",
    "import matplotlib.pyplot as plt\n",
    "x = np.arange(10)\n",
    "plt.figure(figsize=(10,6))\n",
    "plt.plot(x, x)\n",
    "plt.plot(x, x + 2)\n",
    "plt.plot(x, x - 2)\n",
    "y = np.array([n - 2 if n % 2 == 0 else n + 2 for n in x])\n",
    "plt.plot(x, y, 'r')\n",
    "plt.arrow(9, 11, (x[9]-x[8])*0.01, (y[9]-y[8])*0.01, head_width=0.2, head_length=0.4, fc='r', ec='r',overhang=0.4)\n",
    "plt.show()"
   ]
  },
  {
   "cell_type": "markdown",
   "metadata": {},
   "source": [
    "### 3. 编程的附加值\n",
    "- Kenneth Reitz\n",
    "- Requests: HTTP for Humans\n",
    "- <http://python-requests.org>\n",
    "- <https://github.com/kennethreitz/requests>\n",
    "![KennethReitz1](images/Kenneth/KennethReitz1.jpeg)\n",
    "![KennethReitz8](images/Kenneth/KennethReitz8.jpeg)"
   ]
  },
  {
   "cell_type": "markdown",
   "metadata": {},
   "source": [
    "## 五、学习资源\n",
    "- Python基础教程\n",
    "- Python核心编程\n",
    "- Python Cookbook\n",
    "- 利用Python进行数据分析\n",
    "- <https://www.python.org/doc/>\n",
    "- <https://github.com/>\n",
    "- <http://stackoverflow.com/>\n",
    "- 以及上面提到的第三方包官方文档"
   ]
  },
  {
   "cell_type": "markdown",
   "metadata": {},
   "source": [
    "## 六、练习\n",
    "### 1. 生成斐波那契数列"
   ]
  },
  {
   "cell_type": "code",
   "execution_count": 3,
   "metadata": {
    "scrolled": true
   },
   "outputs": [
    {
     "data": {
      "text/plain": [
       "[0, 1, 1, 2, 3, 5, 8, 13, 21, 34, 55, 89]"
      ]
     },
     "execution_count": 3,
     "metadata": {},
     "output_type": "execute_result"
    }
   ],
   "source": [
    "def get_fibs(num):\n",
    "    f = [0,1]\n",
    "    while num - 2 > 0:\n",
    "        f.append(f[-1] + f[-2])\n",
    "        num -= 1\n",
    "    return f\n",
    "\n",
    "get_fibs(12)"
   ]
  },
  {
   "cell_type": "markdown",
   "metadata": {},
   "source": [
    "### 2. 筛选序列中的元素"
   ]
  },
  {
   "cell_type": "code",
   "execution_count": 4,
   "metadata": {},
   "outputs": [
    {
     "data": {
      "text/plain": [
       "[13, 21, 34, 55, 89]"
      ]
     },
     "execution_count": 4,
     "metadata": {},
     "output_type": "execute_result"
    }
   ],
   "source": [
    "[n for n in get_fibs(12) if n > 10]"
   ]
  },
  {
   "cell_type": "code",
   "execution_count": null,
   "metadata": {
    "collapsed": true
   },
   "outputs": [],
   "source": []
  }
 ],
 "metadata": {
  "kernelspec": {
   "display_name": "Python 3",
   "language": "python",
   "name": "python3"
  },
  "language_info": {
   "codemirror_mode": {
    "name": "ipython",
    "version": 3
   },
   "file_extension": ".py",
   "mimetype": "text/x-python",
   "name": "python",
   "nbconvert_exporter": "python",
   "pygments_lexer": "ipython3",
   "version": "3.6.3"
  }
 },
 "nbformat": 4,
 "nbformat_minor": 2
}
